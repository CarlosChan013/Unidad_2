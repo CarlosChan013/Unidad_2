{
 "cells": [
  {
   "cell_type": "code",
   "execution_count": 7,
   "id": "1036d600",
   "metadata": {},
   "outputs": [
    {
     "name": "stdout",
     "output_type": "stream",
     "text": [
      "Por favor, ingresa tu peso en kilogramos: 81.5\n",
      "Por favor, ingresa tu estatura en metros: 1.60\n",
      "Tu IMC es: 31.835937499999993\n",
      "Tienes obesidad.\n"
     ]
    }
   ],
   "source": [
    "# definimos la variable y solicitamos el peso del usuario \n",
    "peso = float(input(\"Por favor, ingresa tu peso en kilogramos: \"))\n",
    "\n",
    "# definimos la variable y solicitamos la estatura del usuario en metros\n",
    "estatura = float(input(\"Por favor, ingresa tu estatura en metros: \"))\n",
    "\n",
    "# formula para sacar el IMC\n",
    "imc = peso / (estatura ** 2)\n",
    "\n",
    "\n",
    "print(\"Tu IMC es:\", imc)\n",
    "\n",
    "# dependiendo del IMC se determina si tiene bajo peso, peso noirmal, sobrepeso o obesidad (estas en volumen xd)\n",
    "if imc < 18.5:\n",
    "    print(\"Tienes bajo peso.\")\n",
    "    \n",
    "elif imc >= 18.5 and imc < 24.9:\n",
    "    print(\"Tienes un peso normal.\")\n",
    "    \n",
    "elif imc >= 24.9 and imc < 29.9:\n",
    "    print(\"Tienes sobrepeso.\")\n",
    "    \n",
    "else:\n",
    "    print(\"Tienes obesidad.\")"
   ]
  },
  {
   "cell_type": "code",
   "execution_count": null,
   "id": "33e64a5d",
   "metadata": {},
   "outputs": [],
   "source": []
  },
  {
   "cell_type": "code",
   "execution_count": null,
   "id": "03a940bb",
   "metadata": {},
   "outputs": [],
   "source": []
  }
 ],
 "metadata": {
  "kernelspec": {
   "display_name": "Python 3 (ipykernel)",
   "language": "python",
   "name": "python3"
  },
  "language_info": {
   "codemirror_mode": {
    "name": "ipython",
    "version": 3
   },
   "file_extension": ".py",
   "mimetype": "text/x-python",
   "name": "python",
   "nbconvert_exporter": "python",
   "pygments_lexer": "ipython3",
   "version": "3.11.4"
  }
 },
 "nbformat": 4,
 "nbformat_minor": 5
}
