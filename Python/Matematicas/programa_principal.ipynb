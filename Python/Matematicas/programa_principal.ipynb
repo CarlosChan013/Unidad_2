{
 "cells": [
  {
   "cell_type": "code",
   "execution_count": 11,
   "id": "b6d04364",
   "metadata": {},
   "outputs": [
    {
     "name": "stdout",
     "output_type": "stream",
     "text": [
      "8\n"
     ]
    }
   ],
   "source": [
    "#suma\n",
    "import operaciones_basicas\n",
    "\n",
    "resultado = operaciones_basicas.suma(5, 3)\n",
    "print(resultado)  # Imprimirá 8"
   ]
  },
  {
   "cell_type": "code",
   "execution_count": 12,
   "id": "21f66aae",
   "metadata": {},
   "outputs": [
    {
     "name": "stdout",
     "output_type": "stream",
     "text": [
      "2\n"
     ]
    }
   ],
   "source": [
    "#resta\n",
    "import operaciones_basicas\n",
    "\n",
    "resultado = operaciones_basicas.resta(5, 3)\n",
    "print(resultado)  # Imprimirá 2"
   ]
  },
  {
   "cell_type": "code",
   "execution_count": 1,
   "id": "dce6477e",
   "metadata": {},
   "outputs": [
    {
     "name": "stdout",
     "output_type": "stream",
     "text": [
      "25\n"
     ]
    }
   ],
   "source": [
    "#multiplicación\n",
    "import operaciones_basicas\n",
    "\n",
    "resultado = operaciones_basicas.multiplicacion(5, 5)\n",
    "print(resultado)  # Imprimirá 25"
   ]
  },
  {
   "cell_type": "code",
   "execution_count": 4,
   "id": "00c59789",
   "metadata": {},
   "outputs": [
    {
     "name": "stdout",
     "output_type": "stream",
     "text": [
      "11.5\n"
     ]
    }
   ],
   "source": [
    "#division\n",
    "import operaciones_basicas\n",
    "\n",
    "resultado = operaciones_basicas.division(23, 2)\n",
    "print(resultado)  # Imprimirá 11.5"
   ]
  },
  {
   "cell_type": "code",
   "execution_count": 2,
   "id": "80af4b97",
   "metadata": {},
   "outputs": [
    {
     "name": "stdout",
     "output_type": "stream",
     "text": [
      "1.6094379124341003\n"
     ]
    }
   ],
   "source": [
    "#logaritmo natural\n",
    "import operaciones_avanzadas\n",
    "\n",
    "resultado = operaciones_avanzadas.logaritmo_natural(5)\n",
    "print(resultado)  # Imprimirá 1.60943..... "
   ]
  },
  {
   "cell_type": "code",
   "execution_count": null,
   "id": "70c76eb0",
   "metadata": {},
   "outputs": [],
   "source": []
  }
 ],
 "metadata": {
  "kernelspec": {
   "display_name": "Python 3 (ipykernel)",
   "language": "python",
   "name": "python3"
  },
  "language_info": {
   "codemirror_mode": {
    "name": "ipython",
    "version": 3
   },
   "file_extension": ".py",
   "mimetype": "text/x-python",
   "name": "python",
   "nbconvert_exporter": "python",
   "pygments_lexer": "ipython3",
   "version": "3.11.4"
  }
 },
 "nbformat": 4,
 "nbformat_minor": 5
}
