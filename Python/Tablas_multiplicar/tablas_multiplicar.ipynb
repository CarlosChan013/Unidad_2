{
 "cells": [
  {
   "cell_type": "code",
   "execution_count": 2,
   "id": "53c480a0",
   "metadata": {},
   "outputs": [
    {
     "name": "stdout",
     "output_type": "stream",
     "text": [
      "Con qué tabla desea empezar: 1\n",
      "Hasta qué tabla va a llegar: 10\n",
      "Con qué número va a iniciar la tabla: 1\n",
      "Con qué número va a finalizar la tabla: 5\n",
      "Tabla del 1:\n",
      "1 por 1 = 1\n",
      "1 por 2 = 2\n",
      "1 por 3 = 3\n",
      "1 por 4 = 4\n",
      "1 por 5 = 5\n",
      "Tabla del 2:\n",
      "2 por 1 = 2\n",
      "2 por 2 = 4\n",
      "2 por 3 = 6\n",
      "2 por 4 = 8\n",
      "2 por 5 = 10\n",
      "Tabla del 3:\n",
      "3 por 1 = 3\n",
      "3 por 2 = 6\n",
      "3 por 3 = 9\n",
      "3 por 4 = 12\n",
      "3 por 5 = 15\n",
      "Tabla del 4:\n",
      "4 por 1 = 4\n",
      "4 por 2 = 8\n",
      "4 por 3 = 12\n",
      "4 por 4 = 16\n",
      "4 por 5 = 20\n",
      "Tabla del 5:\n",
      "5 por 1 = 5\n",
      "5 por 2 = 10\n",
      "5 por 3 = 15\n",
      "5 por 4 = 20\n",
      "5 por 5 = 25\n",
      "Tabla del 6:\n",
      "6 por 1 = 6\n",
      "6 por 2 = 12\n",
      "6 por 3 = 18\n",
      "6 por 4 = 24\n",
      "6 por 5 = 30\n",
      "Tabla del 7:\n",
      "7 por 1 = 7\n",
      "7 por 2 = 14\n",
      "7 por 3 = 21\n",
      "7 por 4 = 28\n",
      "7 por 5 = 35\n",
      "Tabla del 8:\n",
      "8 por 1 = 8\n",
      "8 por 2 = 16\n",
      "8 por 3 = 24\n",
      "8 por 4 = 32\n",
      "8 por 5 = 40\n",
      "Tabla del 9:\n",
      "9 por 1 = 9\n",
      "9 por 2 = 18\n",
      "9 por 3 = 27\n",
      "9 por 4 = 36\n",
      "9 por 5 = 45\n",
      "Tabla del 10:\n",
      "10 por 1 = 10\n",
      "10 por 2 = 20\n",
      "10 por 3 = 30\n",
      "10 por 4 = 40\n",
      "10 por 5 = 50\n"
     ]
    }
   ],
   "source": [
    "#Tablas de multiplicar en python con jupiter\n",
    "tabla_inicio = int(input(\"Con qué tabla desea empezar: \"))\n",
    "tabla_fin = int(input(\"Hasta qué tabla va a llegar: \"))\n",
    "num_inicio = int(input(\"Con qué número va a iniciar la tabla: \"))\n",
    "num_fin = int(input(\"Con qué número va a finalizar la tabla: \"))\n",
    "\n",
    "for tabla in range(tabla_inicio, tabla_fin + 1):\n",
    "    print(f\"Tabla del {tabla}:\")\n",
    "    for numero in range(num_inicio, num_fin + 1):\n",
    "        resultado = tabla * numero\n",
    "        print(f\"{tabla} por {numero} = {resultado}\")"
   ]
  },
  {
   "cell_type": "code",
   "execution_count": null,
   "id": "81b1db20",
   "metadata": {},
   "outputs": [],
   "source": []
  }
 ],
 "metadata": {
  "kernelspec": {
   "display_name": "Python 3 (ipykernel)",
   "language": "python",
   "name": "python3"
  },
  "language_info": {
   "codemirror_mode": {
    "name": "ipython",
    "version": 3
   },
   "file_extension": ".py",
   "mimetype": "text/x-python",
   "name": "python",
   "nbconvert_exporter": "python",
   "pygments_lexer": "ipython3",
   "version": "3.11.4"
  }
 },
 "nbformat": 4,
 "nbformat_minor": 5
}
