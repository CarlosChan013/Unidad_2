{
 "cells": [
  {
   "cell_type": "code",
   "execution_count": 1,
   "id": "c728d0e6",
   "metadata": {},
   "outputs": [
    {
     "name": "stdout",
     "output_type": "stream",
     "text": [
      "Ingresa tu nombre: Carlos\n",
      "Ingresa tu apellido: Chan Lugo\n",
      "Ingresa tu sexo: H\n",
      "Ingresa tu domicilio: supermanzana 101\n",
      "Ingresa tu clave de lector: CHC2900\n",
      "Ingresa tu curp: CACL13\n",
      "Ingresa tu año de registro:2020\n",
      "Ingresa tu fecha de nacimiento (DD/MM/AAAA): 13/03/2002\n",
      "Ingresa tu número de sección0056\n",
      "Ingresa el numero de vigencia 2021-2031\n",
      "nombre: Carlos\n",
      "apellido: Chan Lugo\n",
      "sexo: H\n",
      "domicilio: supermanzana 101\n",
      "clave: CHC2900\n",
      "curp: CACL13\n",
      "registro: 2020\n",
      "fecha_nacimiento: 13/03/2002\n",
      "seccion: 0056\n",
      "vigencia: 2021-2031\n",
      "\n"
     ]
    }
   ],
   "source": [
    "def solicitar_datos_ine():\n",
    "    datos_ine = {}\n",
    "    \n",
    "    datos_ine['nombre'] = input(\"Ingresa tu nombre: \")\n",
    "    datos_ine['apellido'] = input(\"Ingresa tu apellido: \")\n",
    "    datos_ine['sexo'] = input(\"Ingresa tu sexo: \")\n",
    "    datos_ine['domicilio'] = input(\"Ingresa tu domicilio: \")\n",
    "    datos_ine['clave'] = input(\"Ingresa tu clave de lector: \")\n",
    "    datos_ine['curp'] = input(\"Ingresa tu curp: \")\n",
    "    datos_ine['registro'] = input(\"Ingresa tu año de registro: \")\n",
    "    datos_ine['fecha_nacimiento'] = input(\"Ingresa tu fecha de nacimiento (DD/MM/AAAA): \")\n",
    "    datos_ine['seccion'] = input(\"Ingresa tu número de sección: \")\n",
    "    datos_ine['vigencia'] = input(\"Ingresa el numero de vigencia: \")\n",
    "    \n",
    "    \n",
    "    return datos_ine\n",
    "\n",
    "# Solicitamos los datos del INE\n",
    "datos_usuario = solicitar_datos_ine()\n",
    "def guardar_en_txt(datos, archivo):\n",
    "    with open(archivo, 'w') as file:\n",
    "        for key, value in datos.items():\n",
    "            file.write(f\"{key}: {value}\\n\")\n",
    "\n",
    "# Guardamos los datos de la INE\n",
    "guardar_en_txt(datos_usuario, 'datos_ine.txt')\n",
    "def leer_desde_txt(archivo):\n",
    "    with open(archivo, 'r') as file:\n",
    "        contenido = file.read()\n",
    "        print(contenido)\n",
    "\n",
    "# leemos y mostramos los datos \n",
    "leer_desde_txt('datos_ine.txt')"
   ]
  },
  {
   "cell_type": "code",
   "execution_count": null,
   "id": "8a72d31c",
   "metadata": {},
   "outputs": [],
   "source": []
  },
  {
   "cell_type": "code",
   "execution_count": null,
   "id": "4da47aad",
   "metadata": {},
   "outputs": [],
   "source": []
  },
  {
   "cell_type": "code",
   "execution_count": null,
   "id": "7d8591c5",
   "metadata": {},
   "outputs": [],
   "source": []
  }
 ],
 "metadata": {
  "kernelspec": {
   "display_name": "Python 3 (ipykernel)",
   "language": "python",
   "name": "python3"
  },
  "language_info": {
   "codemirror_mode": {
    "name": "ipython",
    "version": 3
   },
   "file_extension": ".py",
   "mimetype": "text/x-python",
   "name": "python",
   "nbconvert_exporter": "python",
   "pygments_lexer": "ipython3",
   "version": "3.11.4"
  }
 },
 "nbformat": 4,
 "nbformat_minor": 5
}
