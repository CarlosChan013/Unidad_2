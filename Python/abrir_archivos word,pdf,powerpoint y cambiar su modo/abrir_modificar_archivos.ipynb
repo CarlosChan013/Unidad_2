{
 "cells": [
  {
   "cell_type": "code",
   "execution_count": 12,
   "id": "f24fe285",
   "metadata": {},
   "outputs": [
    {
     "name": "stdout",
     "output_type": "stream",
     "text": [
      "Hola mundo version escritura\n"
     ]
    }
   ],
   "source": [
    "# abrir un archivo con extnsion .txt para abrir en modo lectura\n",
    "\n",
    "archivo = open(\"prueba.txt\", \"r\")  # Abre el archivo en modo lectura\n",
    "print(archivo.read())\n",
    "\n"
   ]
  },
  {
   "cell_type": "code",
   "execution_count": 11,
   "id": "08ed3ebb",
   "metadata": {},
   "outputs": [],
   "source": [
    "# abrir un archivo con extnsion .txt para escritura\n",
    "\n",
    "archivo = open(\"prueba.txt\", \"w\")  # Abre el archivo en modo escritura y sobreescribir en dicho archivo\n",
    "archivo.write(\"Hola mundo version escritura\")\n",
    "archivo.close()"
   ]
  },
  {
   "cell_type": "code",
   "execution_count": 17,
   "id": "5e792da6",
   "metadata": {},
   "outputs": [
    {
     "name": "stdout",
     "output_type": "stream",
     "text": [
      "Contenido del archivo:\n",
      "Hola mundo version escritura \n",
      "Hola mundo 2 \n",
      "\n",
      "Hola mundo 3\n",
      "Hola mundo 4\n",
      "Hola mundo 5\n",
      "\n"
     ]
    }
   ],
   "source": [
    "\n",
    "    # Abrir un archivo con extensión .txt en modo agregar\n",
    "archivo = open(\"prueba.txt\", \"a\")  # Abre el archivo en modo agregar y escribir sin sobreescribir lo que contenia \n",
    "\n",
    "# con esto escirbimos el nuevo dato que deseamos agregar y el /n sirve para darle un espaciuo \n",
    "archivo.write(\"Hola mundo 5\\n\")\n",
    "\n",
    "# Cerrar el archivo para liberar recursos\n",
    "archivo.close()\n",
    "\n",
    "# Leer y mostrar el contenido del archivo\n",
    "with open(\"prueba.txt\", \"r\") as archivo:\n",
    "    contenido = archivo.read()\n",
    "    print(\"Contenido del archivo:\")\n",
    "    print(contenido)"
   ]
  },
  {
   "cell_type": "code",
   "execution_count": 37,
   "id": "62dab57d",
   "metadata": {},
   "outputs": [
    {
     "name": "stdout",
     "output_type": "stream",
     "text": [
      "hola mundo \n",
      "hola mundo 2.\n",
      "hola mundo 3.\n"
     ]
    }
   ],
   "source": [
    "# abrir un documento con extension .docx para abrir en modo lectura\n",
    "#realizamos el import para que nos permita trabajar con docuemntos de word\n",
    "from docx import Document\n",
    "\n",
    "# Ruta del documento prueba.docx \n",
    "documento_docx = \"prueba.docx\"\n",
    "\n",
    "try:\n",
    "    # Abre el documento que definimos como documento.docx en modo lectura\n",
    "    doc = Document(documento_docx)\n",
    "\n",
    "    # Itera a través de los párrafos del documento para luego impirmirlos \n",
    "    for paragraph in doc.paragraphs:\n",
    "        print(paragraph.text)\n",
    "#en caso de que no se puedaa abrir el documento mostrara esta leyenda o mensaje \n",
    "except Exception as e:\n",
    "    print(\"Error al abrir el documento:\", str(e))\n"
   ]
  },
  {
   "cell_type": "code",
   "execution_count": 33,
   "id": "2edc1bfd",
   "metadata": {},
   "outputs": [
    {
     "name": "stdout",
     "output_type": "stream",
     "text": [
      "El documento ha sido modificado exitosamente.\n"
     ]
    }
   ],
   "source": [
    "# abrir un documento con extension .docx para escritura\n",
    "#realizamos el import para que nos permita trabajar con docuemntos de word\n",
    "from docx import Document\n",
    "\n",
    "# Ruta del documento prueba.docx \n",
    "documento_docx = \"prueba.docx\"\n",
    "\n",
    "try:\n",
    "    # Abre el documento .docx en modo escritura\n",
    "    doc = Document()\n",
    "\n",
    "    # Escribe el nuevo contenido en el documento (en caso de que ya tenga algo escrito este se sobreescribe)\n",
    "    agregar_contenido = \"hola mundo \"\n",
    "    doc.add_paragraph(agregar_contenido)\n",
    "\n",
    "    # Guarda los cambios en el documento .docx\n",
    "    doc.save(documento_docx)\n",
    "\n",
    "    print(\"El documento ha sido modificado exitosamente.\")\n",
    "\n",
    "except Exception as e:\n",
    "    print(\"Error al modifcar el documento:\", str(e))"
   ]
  },
  {
   "cell_type": "code",
   "execution_count": 36,
   "id": "1a3dfafd",
   "metadata": {},
   "outputs": [
    {
     "name": "stdout",
     "output_type": "stream",
     "text": [
      "Nuevo contenido añadido al documento exitosamente.\n"
     ]
    }
   ],
   "source": [
    "# abrir un documentocon extension .docx para agregar y actualziar nuevos datos\n",
    "#realizamos el import para que nos permita trabajar con docuemntos de word\n",
    "from docx import Document\n",
    "\n",
    "# Ruta del documento prueba.docx \n",
    "documento_docx = \"prueba.docx\"\n",
    "\n",
    "try:\n",
    "    # Abrir el documento .docx en modo lectura\n",
    "    doc = Document(documento_docx)\n",
    "\n",
    "    # Agregar un nuevo mensaje que tendra el dpocumento\n",
    "    agregar_contenido = \"hola mundo 3\"\n",
    "    doc.add_paragraph(agregar_contenido)\n",
    "\n",
    "    # Guardamos los cambios en el documento .docx\n",
    "    doc.save(documento_docx)\n",
    "\n",
    "    print(\"Nuevo contenido añadido al documento exitosamente.\")\n",
    "\n",
    "except Exception as e:\n",
    "    print(\"Error al añadir nuevo contenido al documento:\", str(e))"
   ]
  },
  {
   "cell_type": "code",
   "execution_count": 40,
   "id": "c7e3ea1b",
   "metadata": {},
   "outputs": [
    {
     "name": "stdout",
     "output_type": "stream",
     "text": [
      "Collecting python-pptx\n",
      "  Obtaining dependency information for python-pptx from https://files.pythonhosted.org/packages/c0/ea/94b20a70ed151c4af20dbc3aaa275a89757964f9df5a960698e399012c5e/python_pptx-0.6.22-py3-none-any.whl.metadata\n",
      "  Downloading python_pptx-0.6.22-py3-none-any.whl.metadata (18 kB)\n",
      "Requirement already satisfied: lxml>=3.1.0 in c:\\users\\carlos\\anaconda3\\lib\\site-packages (from python-pptx) (4.9.2)\n",
      "Requirement already satisfied: Pillow<=9.5.0,>=3.3.2 in c:\\users\\carlos\\anaconda3\\lib\\site-packages (from python-pptx) (9.4.0)\n",
      "Collecting XlsxWriter>=0.5.7 (from python-pptx)\n",
      "  Obtaining dependency information for XlsxWriter>=0.5.7 from https://files.pythonhosted.org/packages/f7/3e/05ba2194cd5073602422859c949a4f21310a3c49bf8dccde9e03d4522b11/XlsxWriter-3.1.9-py3-none-any.whl.metadata\n",
      "  Downloading XlsxWriter-3.1.9-py3-none-any.whl.metadata (2.6 kB)\n",
      "Downloading python_pptx-0.6.22-py3-none-any.whl (471 kB)\n",
      "   ---------------------------------------- 0.0/471.5 kB ? eta -:--:--\n",
      "   ------------ --------------------------- 143.4/471.5 kB 4.3 MB/s eta 0:00:01\n",
      "   ---------------------------------------  471.0/471.5 kB 5.9 MB/s eta 0:00:01\n",
      "   ---------------------------------------- 471.5/471.5 kB 5.9 MB/s eta 0:00:00\n",
      "Downloading XlsxWriter-3.1.9-py3-none-any.whl (154 kB)\n",
      "   ---------------------------------------- 0.0/154.8 kB ? eta -:--:--\n",
      "   ---------------------------------------- 154.8/154.8 kB ? eta 0:00:00\n",
      "Installing collected packages: XlsxWriter, python-pptx\n",
      "Successfully installed XlsxWriter-3.1.9 python-pptx-0.6.22\n"
     ]
    }
   ],
   "source": [
    "!pip install python-pptx\n",
    "\n"
   ]
  },
  {
   "cell_type": "code",
   "execution_count": 24,
   "id": "ae1b501a",
   "metadata": {},
   "outputs": [
    {
     "name": "stdout",
     "output_type": "stream",
     "text": [
      "Nuevo texto Hola mundo 3 Hola mundo 2\n",
      "Nuevo texto Hola mundo 3 Hola mundo 2\n"
     ]
    }
   ],
   "source": [
    "# abrir una presentación en power point\n",
    "#realizamos el import para que nos permita trabajar con diapositivas d epower point\n",
    "from pptx import Presentation\n",
    "\n",
    "# Ruta del la presentacion .pptx \n",
    "presentacion_pptx = \"prueba.pptx\"\n",
    "\n",
    "try:\n",
    "    # Abre el archivo .pptx en modo lectura\n",
    "    presentation = Presentation(presentacion_pptx)\n",
    "\n",
    "    # Itera a través de las diapositivas incluyendo los textos  para luego imprimirlos\n",
    "    for slide in presentation.slides:\n",
    "        for shape in slide.shapes:\n",
    "            if hasattr(shape, \"text\"):\n",
    "                print(shape.text)\n",
    "\n",
    "except Exception as e:\n",
    "    print(\"Error al abrir la presentacion:\", str(e))"
   ]
  },
  {
   "cell_type": "code",
   "execution_count": 12,
   "id": "50f05002",
   "metadata": {},
   "outputs": [],
   "source": [
    "# sobreesribir el contenido que tenga una presentación en power point\n",
    "#realizamos el import para que nos permita trabajar con diapositivas d epower point\n",
    "from pptx import Presentation\n",
    "\n",
    "# Ruta de la presentación .pptx \n",
    "presentacion_pptx = \"prueba.pptx\"\n",
    "\n",
    "try:\n",
    "    # Abre la presentacion .pptx en modo escritura\n",
    "    presentation = Presentation(presentacion_pptx)\n",
    "\n",
    "    # Itera a través de las diapositivas para sobrescribir el texto en cada forma de texto\n",
    "    for slide in presentation.slides:\n",
    "        for shape in slide.shapes:\n",
    "            if hasattr(shape, \"text\"):\n",
    "                # Sobrescribe el texto \n",
    "                shape.text = \"Nuevo mundo\"  \n",
    "\n",
    "    # Guarda la presentación modificada \n",
    "    presentation.save(presentacion_pptx)\n",
    "\n",
    "except Exception as e:\n",
    "    print(\"Error al abrir la presentación:\", str(e))"
   ]
  },
  {
   "cell_type": "code",
   "execution_count": 23,
   "id": "06d1eeca",
   "metadata": {},
   "outputs": [],
   "source": [
    "# agregar y actualizar nuevo ocntenido o datos en power point\n",
    "#realizamos el import para que nos permita trabajar con diapositivas d epower point\n",
    "from pptx import Presentation\n",
    "\n",
    "# Ruta de la presentación .pptx \n",
    "presentacion_pptx = \"prueba.pptx\"\n",
    "\n",
    "try:\n",
    "    # Abre la presentación .pptx en modo lectura\n",
    "    presentation = Presentation(presentacion_pptx)\n",
    "\n",
    "    # Texto a actualizar\n",
    "    agregar_contenido = \"Hola mundo 2\"\n",
    "\n",
    "    # Itera a través de las diapositivas para agregar el nuevo texto en cada diapositiva\n",
    "    for slide in presentation.slides:\n",
    "        for shape in slide.shapes:\n",
    "            if hasattr(shape, \"text\"):\n",
    "                # Agrega el nuevo texto al contenido existente\n",
    "                shape.text += \" \" + agregar_contenido\n",
    "\n",
    "    # Guardamos la presentacion modificada\n",
    "    presentation.save(presentacion_pptx)\n",
    "\n",
    "except Exception as e:\n",
    "    print(\"Error al abrir y actualizar la presentación:\", str(e))\n",
    "    \n"
   ]
  },
  {
   "cell_type": "code",
   "execution_count": null,
   "id": "88a1534a",
   "metadata": {},
   "outputs": [],
   "source": []
  }
 ],
 "metadata": {
  "kernelspec": {
   "display_name": "Python 3 (ipykernel)",
   "language": "python",
   "name": "python3"
  },
  "language_info": {
   "codemirror_mode": {
    "name": "ipython",
    "version": 3
   },
   "file_extension": ".py",
   "mimetype": "text/x-python",
   "name": "python",
   "nbconvert_exporter": "python",
   "pygments_lexer": "ipython3",
   "version": "3.11.4"
  }
 },
 "nbformat": 4,
 "nbformat_minor": 5
}
